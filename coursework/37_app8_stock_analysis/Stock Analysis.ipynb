{
 "cells": [
  {
   "cell_type": "code",
   "execution_count": 97,
   "metadata": {},
   "outputs": [],
   "source": [
    "from pandas_datareader import data\n",
    "from datetime import datetime as dt\n",
    "from bokeh.plotting import figure , show , output_file\n",
    "from bokeh.embed import components\n",
    "from bokeh.resources import CDN #content delivery network"
   ]
  },
  {
   "cell_type": "code",
   "execution_count": 2,
   "metadata": {},
   "outputs": [],
   "source": [
    "data.DataReader?"
   ]
  },
  {
   "cell_type": "code",
   "execution_count": 94,
   "metadata": {
    "scrolled": true
   },
   "outputs": [],
   "source": [
    "start = dt(2018,11,1)  #  1/1/2019\n",
    "end = dt(2019,3,12)   # 12/3/2019\n",
    "df = data.DataReader(name = \"AAPL\" , data_source = \"yahoo\" , start = start , end = end )\n",
    "\n",
    "#AAPL refere to apple , you can search google fot the NASDAQ name\n",
    "\n",
    "#df.index[df.Close > df.Open]\n",
    "#create two quad one for df.Close > df.Open\n",
    "    #other for df.Close < df.Open\n",
    "#for each quad : \n",
    "    #x = date , y = close , open , width , color  \n",
    "\n",
    "def Inc_dec(c,o):\n",
    "    if c > o : \n",
    "        value = \"Increase\"\n",
    "    elif c < o :\n",
    "        value = \"Decrease\"\n",
    "    else :\n",
    "        value = \"Equal\"\n",
    "    return value\n",
    "        \n",
    "df[\"Status\"] = [Inc_dec(c,o) for c , o in zip(df.Close , df.Open)]\n",
    "df[\"Middle\"] = (df.Open+df.Close)/ 2\n",
    "df[\"Diff\"] = abs(df.Open-df.Close)\n",
    "\n",
    "\n",
    "p = figure (x_axis_type ='datetime' , width = 1000 , height = 300 ,title = \"Apple Stock Analysis nov2018-mar 2019\" , sizing_mode = 'scale_width')\n",
    "p.yaxis.axis_label= \"USD\" \n",
    "p.grid.grid_line_alpha = 0.3 \n",
    "\n",
    "p.segment(df.index , df.High , df.index ,df.Low , color = \"#7c7c7c\")\n",
    "\n",
    "hours_12 = 12 * 60 * 60 * 1000 #milliseconda  \n",
    "#Rect(x: date , y : (open + close / 2 ), width in milliseconds, height : the difference) \n",
    "p.rect(df.index[df.Status == \"Increase\"] , df.Middle[df.Status == \"Increase\"] , hours_12 ,df.Diff[df.Status == \"Increase\"] , fill_color = \"#86d88a\" , line_color = \"#2a442b\")\n",
    "p.rect(df.index[df.Status == \"Decrease\"] , df.Middle[df.Status == \"Decrease\"] , hours_12 ,df.Diff[df.Status == \"Decrease\"] , fill_color = \"#d88686\" , line_color = \"#442a2a\")\n",
    "\n",
    "\n",
    "script1 , div1,  = components(p)\n",
    "cdn_js = CDN.js_files\n",
    "cdn_css = CDN.css_files\n",
    "#output_file(\"test.html\")\n",
    "#show (p)\n",
    "\n"
   ]
  },
  {
   "cell_type": "code",
   "execution_count": 99,
   "metadata": {},
   "outputs": [
    {
     "name": "stdout",
     "output_type": "stream",
     "text": [
      "https://cdn.pydata.org/bokeh/release/bokeh-1.0.4.min.js \n",
      "---------------\n",
      "\n",
      "https://cdn.pydata.org/bokeh/release/bokeh-1.0.4.min.css \n",
      "---------------\n",
      "\n",
      "\n",
      "<div class=\"bk-root\" id=\"62688000-4c50-4cab-922c-1e75dcb6a889\" data-root-id=\"7479\"></div> \n",
      "---------------\n",
      "\n",
      "\n",
      "<script type=\"text/javascript\">\n",
      "  (function() {\n",
      "    var fn = function() {\n",
      "      Bokeh.safely(function() {\n",
      "        (function(root) {\n",
      "          function embed_document(root) {\n",
      "            \n",
      "          var docs_json = '{\"8eb06f4b-2d7d-4f2a-9a01-8d52087c3553\":{\"roots\":{\"references\":[{\"attributes\":{\"num_minor_ticks\":5,\"tickers\":[{\"id\":\"7534\",\"type\":\"AdaptiveTicker\"},{\"id\":\"7535\",\"type\":\"AdaptiveTicker\"},{\"id\":\"7536\",\"type\":\"AdaptiveTicker\"},{\"id\":\"7537\",\"type\":\"DaysTicker\"},{\"id\":\"7538\",\"type\":\"DaysTicker\"},{\"id\":\"7539\",\"type\":\"DaysTicker\"},{\"id\":\"7540\",\"type\":\"DaysTicker\"},{\"id\":\"7541\",\"type\":\"MonthsTicker\"},{\"id\":\"7542\",\"type\":\"MonthsTicker\"},{\"id\":\"7543\",\"type\":\"MonthsTicker\"},{\"id\":\"7544\",\"type\":\"MonthsTicker\"},{\"id\":\"7545\",\"type\":\"YearsTicker\"}]},\"id\":\"7490\",\"type\":\"DatetimeTicker\"},{\"attributes\":{\"days\":[1,2,3,4,5,6,7,8,9,10,11,12,13,14,15,16,17,18,19,20,21,22,23,24,25,26,27,28,29,30,31]},\"id\":\"7537\",\"type\":\"DaysTicker\"},{\"attributes\":{\"months\":[0,6]},\"id\":\"7544\",\"type\":\"MonthsTicker\"},{\"attributes\":{},\"id\":\"7485\",\"type\":\"LinearScale\"},{\"attributes\":{\"source\":{\"id\":\"7519\",\"type\":\"ColumnDataSource\"}},\"id\":\"7523\",\"type\":\"CDSView\"},{\"attributes\":{},\"id\":\"7532\",\"type\":\"BasicTickFormatter\"},{\"attributes\":{},\"id\":\"7530\",\"type\":\"DatetimeTickFormatter\"},{\"attributes\":{},\"id\":\"7500\",\"type\":\"WheelZoomTool\"},{\"attributes\":{},\"id\":\"7546\",\"type\":\"Selection\"},{\"attributes\":{\"active_drag\":\"auto\",\"active_inspect\":\"auto\",\"active_multi\":null,\"active_scroll\":\"auto\",\"active_tap\":\"auto\",\"tools\":[{\"id\":\"7499\",\"type\":\"PanTool\"},{\"id\":\"7500\",\"type\":\"WheelZoomTool\"},{\"id\":\"7501\",\"type\":\"BoxZoomTool\"},{\"id\":\"7502\",\"type\":\"SaveTool\"},{\"id\":\"7503\",\"type\":\"ResetTool\"},{\"id\":\"7504\",\"type\":\"HelpTool\"}]},\"id\":\"7505\",\"type\":\"Toolbar\"},{\"attributes\":{\"source\":{\"id\":\"7524\",\"type\":\"ColumnDataSource\"}},\"id\":\"7528\",\"type\":\"CDSView\"},{\"attributes\":{\"bottom_units\":\"screen\",\"fill_alpha\":{\"value\":0.5},\"fill_color\":{\"value\":\"lightgrey\"},\"left_units\":\"screen\",\"level\":\"overlay\",\"line_alpha\":{\"value\":1.0},\"line_color\":{\"value\":\"black\"},\"line_dash\":[4,4],\"line_width\":{\"value\":2},\"plot\":null,\"render_mode\":\"css\",\"right_units\":\"screen\",\"top_units\":\"screen\"},\"id\":\"7507\",\"type\":\"BoxAnnotation\"},{\"attributes\":{\"formatter\":{\"id\":\"7530\",\"type\":\"DatetimeTickFormatter\"},\"plot\":{\"id\":\"7479\",\"subtype\":\"Figure\",\"type\":\"Plot\"},\"ticker\":{\"id\":\"7490\",\"type\":\"DatetimeTicker\"}},\"id\":\"7489\",\"type\":\"DatetimeAxis\"},{\"attributes\":{\"days\":[1,4,7,10,13,16,19,22,25,28]},\"id\":\"7538\",\"type\":\"DaysTicker\"},{\"attributes\":{\"line_alpha\":{\"value\":0.1},\"line_color\":{\"value\":\"#1f77b4\"},\"x0\":{\"field\":\"x0\"},\"x1\":{\"field\":\"x1\"},\"y0\":{\"field\":\"y0\"},\"y1\":{\"field\":\"y1\"}},\"id\":\"7516\",\"type\":\"Segment\"},{\"attributes\":{\"months\":[0,4,8]},\"id\":\"7543\",\"type\":\"MonthsTicker\"},{\"attributes\":{\"days\":[1,8,15,22]},\"id\":\"7539\",\"type\":\"DaysTicker\"},{\"attributes\":{\"fill_color\":{\"value\":\"#86d88a\"},\"height\":{\"field\":\"height\",\"units\":\"data\"},\"line_color\":{\"value\":\"#2a442b\"},\"width\":{\"units\":\"data\",\"value\":43200000},\"x\":{\"field\":\"x\"},\"y\":{\"field\":\"y\"}},\"id\":\"7520\",\"type\":\"Rect\"},{\"attributes\":{},\"id\":\"7545\",\"type\":\"YearsTicker\"},{\"attributes\":{},\"id\":\"7495\",\"type\":\"BasicTicker\"},{\"attributes\":{\"callback\":null,\"data\":{\"x0\":{\"__ndarray__\":\"AAAAHclsdkIAAMCCG212QgAAALQSbnZCAADAGWVudkIAAIB/t252QgAAQOUJb3ZCAAAAS1xvdkIAAEB8U3B2QgAAAOKlcHZCAADAR/hwdkIAAICtSnF2QgAAQBOdcXZCAACARJRydkIAAECq5nJ2QgAAABA5c3ZCAACA291zdkIAAMAM1XR2QgAAgHIndXZCAABA2Hl1dkIAAAA+zHV2QgAAwKMednZCAAAA1RV3dkIAAMA6aHd2QgAAQAYNeHZCAAAAbF94dkIAAECdVnl2QgAAAAOpeXZCAADAaPt5dkIAAIDOTXp2QgAAQDSgenZCAACAZZd7dkIAAEDL6Xt2QgAAADE8fHZCAADAlo58dkIAAID84Hx2QgAAwC3YfXZCAABA+Xx+dkIAAABfz352QgAAwMQhf3ZCAAAA9hiAdkIAAIDBvYB2QgAAQCcQgXZCAAAAjWKBdkIAAEC+WYJ2QgAAACSsgnZCAADAif6CdkIAAIDvUIN2QgAAQFWjg3ZCAACAhpqEdkIAAEDs7IR2QgAAAFI/hXZCAADAt5GFdkIAAIAd5IV2QgAAgLQth3ZCAABAGoCHdkIAAACA0od2QgAAwOUkiHZCAAAAFxyJdkIAAMB8bol2QgAAgOLAiXZCAABASBOKdkIAAACuZYp2QgAAQN9ci3ZCAAAARa+LdkIAAMCqAYx2QgAAgBBUjHZCAABAdqaMdkIAAICnnY12QgAAQA3wjXZCAAAAc0KOdkIAAMDYlI52QgAAgD7njnZCAACA1TCQdkIAAEA7g5B2QgAAAKHVkHZCAADABiiRdkIAAAA4H5J2QgAAwJ1xknZCAACAA8SSdkIAAEBpFpN2QgAAAM9ok3ZCAABAAGCUdkIAAABmspR2QgAAwMsElXZCAACAMVeVdkIAAECXqZV2QgAAgMiglnZCAABALvOWdkI=\",\"dtype\":\"float64\",\"shape\":[88]},\"x1\":{\"__ndarray__\":\"AAAAHclsdkIAAMCCG212QgAAALQSbnZCAADAGWVudkIAAIB/t252QgAAQOUJb3ZCAAAAS1xvdkIAAEB8U3B2QgAAAOKlcHZCAADAR/hwdkIAAICtSnF2QgAAQBOdcXZCAACARJRydkIAAECq5nJ2QgAAABA5c3ZCAACA291zdkIAAMAM1XR2QgAAgHIndXZCAABA2Hl1dkIAAAA+zHV2QgAAwKMednZCAAAA1RV3dkIAAMA6aHd2QgAAQAYNeHZCAAAAbF94dkIAAECdVnl2QgAAAAOpeXZCAADAaPt5dkIAAIDOTXp2QgAAQDSgenZCAACAZZd7dkIAAEDL6Xt2QgAAADE8fHZCAADAlo58dkIAAID84Hx2QgAAwC3YfXZCAABA+Xx+dkIAAABfz352QgAAwMQhf3ZCAAAA9hiAdkIAAIDBvYB2QgAAQCcQgXZCAAAAjWKBdkIAAEC+WYJ2QgAAACSsgnZCAADAif6CdkIAAIDvUIN2QgAAQFWjg3ZCAACAhpqEdkIAAEDs7IR2QgAAAFI/hXZCAADAt5GFdkIAAIAd5IV2QgAAgLQth3ZCAABAGoCHdkIAAACA0od2QgAAwOUkiHZCAAAAFxyJdkIAAMB8bol2QgAAgOLAiXZCAABASBOKdkIAAACuZYp2QgAAQN9ci3ZCAAAARa+LdkIAAMCqAYx2QgAAgBBUjHZCAABAdqaMdkIAAICnnY12QgAAQA3wjXZCAAAAc0KOdkIAAMDYlI52QgAAgD7njnZCAACA1TCQdkIAAEA7g5B2QgAAAKHVkHZCAADABiiRdkIAAAA4H5J2QgAAwJ1xknZCAACAA8SSdkIAAEBpFpN2QgAAAM9ok3ZCAABAAGCUdkIAAABmspR2QgAAwMsElXZCAACAMVeVdkIAAECXqZV2QgAAgMiglnZCAABALvOWdkI=\",\"dtype\":\"float64\",\"shape\":[88]},\"y0\":{\"__ndarray__\":\"AAAAIIXLa0AAAADAzLRqQAAAAOB6jGlAAAAAQAqXaUAAAACA60FqQAAAAADXQ2pAAAAA4FHAaUAAAABAM/toQAAAAIDCpWhAAAAAIFxPaEAAAABACv9nQAAAAEAKX2hAAAAAYGbWZ0AAAABACq9mQAAAAOCjiGZAAAAAQDMTZkAAAABgZt5lQAAAAOCj2GVAAAAAoEepZkAAAACgmdlmQAAAAGCPimZAAAAAgBQeZ0AAAADgesxmQAAAAMD12GVAAAAAIK7PZUAAAABA4UJlQAAAAKBHeWVAAAAAoHB9ZUAAAACAPZJlQAAAAGCPImVAAAAAQDMLZUAAAADA9fBkQAAAAGBm7mRAAAAAIIVDZEAAAADAHsVjQAAAAKCZ8WJAAAAAIFynY0AAAADgo5hjQAAAAOCj0GNAAAAAIIXrY0AAAABAM9tjQAAAAEAKN2JAAAAAoJmRYkAAAABgj5piQAAAAIA9+mJAAAAAwPVQY0AAAABACj9jQAAAAGBmNmNAAAAA4KPoYkAAAADgeixjQAAAAAApfGNAAAAAwB61Y0AAAAAAKbxjQAAAACBcl2NAAAAA4HpkY0AAAAAgXE9jQAAAAAApxGNAAAAAYI+KY0AAAAAAKcRjQAAAAMDMxGRAAAAAAAAgZUAAAAAgXB9lQAAAAMAedWVAAAAAYI/iZUAAAACAPfJlQAAAAIAUvmVAAAAAwB5VZUAAAABguGZlQAAAAAAAYGVAAAAAIFyPZUAAAADgUWhlQAAAAGBmdmVAAAAAgBRuZUAAAACAPaplQAAAAADXi2VAAAAAAACgZUAAAAAA1/tlQAAAAKCZ6WVAAAAAAADgZUAAAADAHt1lQAAAAMDM5GVAAAAAAAA4ZkAAAAAAAABmQAAAACCu72VAAAAAgBTOZUAAAACAPaJlQAAAAADXY2ZAAAAAoHDVZkA=\",\"dtype\":\"float64\",\"shape\":[88]},\"y1\":{\"__ndarray__\":\"AAAAgOsZa0AAAACAwq1pQAAAAKBwxWhAAAAAgBQ2aUAAAAAAKYRpQAAAAAAA2GlAAAAAAABIaUAAAACgRzloQAAAAGBm7mdAAAAAgMI9Z0AAAADAzFxnQAAAAGC4rmdAAAAAIK4fZ0AAAADgUfBlQAAAAKCZEWZAAAAAQDODZUAAAADgUUhlQAAAAAApXGVAAAAAgMLdZUAAAABgZjZmQAAAAMD1IGZAAAAAYLimZkAAAADgowhmQAAAAKBwTWVAAAAAoJkJZUAAAABgj2pkQAAAAAAA4GRAAAAA4KMgZUAAAACgmTFlQAAAAMD1qGRAAAAAIFxXZEAAAADgeoxkQAAAAEDh4mNAAAAAoJlpY0AAAAAAKbRiQAAAAEDhUmJAAAAAQApXYkAAAACAPcJiQAAAAKCZUWNAAAAAIFyPY0AAAAAgXEdjQAAAAAAAwGFAAAAAoJn5YUAAAADAzDxiQAAAAOCjkGJAAAAAACm0YkAAAAAghdtiQAAAAOBR8GJAAAAAQAqnYkAAAACgmcFiQAAAAAAAIGNAAAAA4FEoY0AAAAAgXH9jQAAAAADXE2NAAAAAYGb2YkAAAAAgrvdiQAAAAIA9SmNAAAAAwB41Y0AAAAAghUNjQAAAACBcB2RAAAAAgOuRZEAAAACAwr1kQAAAAMD16GRAAAAAQDOLZUAAAABAM5tlQAAAAEDhSmVAAAAAoHANZUAAAAAAAChlQAAAAGBmNmVAAAAAoHA9ZUAAAAAAKSxlQAAAAAAAOGVAAAAAIK4vZUAAAAAgrl9lQAAAAKCZSWVAAAAAAClsZUAAAABgZr5lQAAAAKBwpWVAAAAAIFyXZUAAAACgcJ1lQAAAAOB6nGVAAAAAQAq/ZUAAAACgR9FlQAAAAIAUvmVAAAAA4KOAZUAAAAAAADBlQAAAAEAz62VAAAAAAClsZkA=\",\"dtype\":\"float64\",\"shape\":[88]}},\"selected\":{\"id\":\"7546\",\"type\":\"Selection\"},\"selection_policy\":{\"id\":\"7547\",\"type\":\"UnionRenderers\"}},\"id\":\"7514\",\"type\":\"ColumnDataSource\"},{\"attributes\":{\"callback\":null,\"data\":{\"height\":{\"__ndarray__\":\"AAAAAGCPAEAAAAAAGK4FQAAAAAAA1/c/AAAAALBH8T8AAAAA7FETQAAAAABkZhxAAAAAAFyPEEAAAAAAcD32PwAAAACYmQdAAAAAADgzBUAAAAAASOEIQAAAAAAgXPs/AAAAADwKEUAAAAAAAAAUQAAAAABwPQhAAAAAAMDM9D8AAAAA+CgMQAAAAADwKPg/AAAAAKRwFEAAAAAAWI8MQAAAAAAghRhAAAAAALAe9T8AAAAA8FH0PwAAAACgR+k/AAAAANCj/D8AAAAA4KPoPwAAAABg4eI/AAAAAEAz6z8AAAAAgMLlPwAAAABI4QhAAAAAAIBwzT8AAAAAYI/2PwAAAADAHvk/AAAAAAAp3D8AAAAAQD3aPwAAAAAgXPc/AAAAAJDr+T8AAAAAMFzzPwAAAABgj+o/AAAAACCu5z8AAAAAYLjyPwAAAACAPdo/AAAAAAAzwz8AAAAAgOv1Pw==\",\"dtype\":\"float64\",\"shape\":[44]},\"x\":{\"__ndarray__\":\"AADAghttdkIAAAC0Em52QgAAQOUJb3ZCAAAAS1xvdkIAAEB8U3B2QgAAwEf4cHZCAACARJRydkIAAECq5nJ2QgAAABA5c3ZCAACA291zdkIAAAA+zHV2QgAAwKMednZCAADAOmh3dkIAAABsX3h2QgAAAAOpeXZCAADAaPt5dkIAAEA0oHp2QgAAgGWXe3ZCAAAAMTx8dkIAAMCWjnx2QgAAgPzgfHZCAADALdh9dkIAAMDEIX92QgAAAPYYgHZCAABAJxCBdkIAAEC+WYJ2QgAAQFWjg3ZCAACAhpqEdkIAAIAd5IV2QgAAgLQth3ZCAABAGoCHdkIAAACA0od2QgAAwHxuiXZCAAAArmWKdkIAAMCqAYx2QgAAgBBUjHZCAACAp52NdkIAAABzQo52QgAAgD7njnZCAAAAodWQdkIAAEBpFpN2QgAAAGaylHZCAADAywSVdkIAAIAxV5V2Qg==\",\"dtype\":\"float64\",\"shape\":[44]},\"y\":{\"__ndarray__\":\"AAAA4HoQakAAAABwPV5pQAAAACCFJ2pAAAAA8FGgaUAAAABQuJJoQAAAADAzy2dAAAAAkMJ9Z0AAAACQmTVmQAAAAPAoSGZAAAAAEK6zZUAAAAAwXKNmQAAAAIDrbWZAAAAAcD1aZkAAAAAgrl9lQAAAAOCjRGVAAAAAAAA4ZUAAAAAQrudkQAAAAHA9lmRAAAAAcD1uZEAAAAAQrtNjQAAAAKBwOWNAAAAAEK5vYkAAAAAQrptjQAAAAPBRxGNAAAAAULjiYUAAAABwFIpiQAAAAFC4EmNAAAAAoJnNYkAAAADAHqVjQAAAADBcW2NAAAAAsB5BY0AAAADA9SxjQAAAAEDhbmNAAAAAIK7XZEAAAABwPc5lQAAAAKBwdWVAAAAAEK5HZUAAAACwHlllQAAAAFC4WmVAAAAAkMJtZUAAAAAghbdlQAAAACCF92VAAAAAQArTZUAAAACA66VlQA==\",\"dtype\":\"float64\",\"shape\":[44]}},\"selected\":{\"id\":\"7550\",\"type\":\"Selection\"},\"selection_policy\":{\"id\":\"7551\",\"type\":\"UnionRenderers\"}},\"id\":\"7524\",\"type\":\"ColumnDataSource\"},{\"attributes\":{\"source\":{\"id\":\"7514\",\"type\":\"ColumnDataSource\"}},\"id\":\"7518\",\"type\":\"CDSView\"},{\"attributes\":{\"axis_label\":\"USD\",\"formatter\":{\"id\":\"7532\",\"type\":\"BasicTickFormatter\"},\"plot\":{\"id\":\"7479\",\"subtype\":\"Figure\",\"type\":\"Plot\"},\"ticker\":{\"id\":\"7495\",\"type\":\"BasicTicker\"}},\"id\":\"7494\",\"type\":\"LinearAxis\"},{\"attributes\":{\"callback\":null},\"id\":\"7483\",\"type\":\"DataRange1d\"},{\"attributes\":{\"dimension\":1,\"grid_line_alpha\":{\"value\":0.3},\"plot\":{\"id\":\"7479\",\"subtype\":\"Figure\",\"type\":\"Plot\"},\"ticker\":{\"id\":\"7495\",\"type\":\"BasicTicker\"}},\"id\":\"7498\",\"type\":\"Grid\"},{\"attributes\":{\"fill_alpha\":{\"value\":0.1},\"fill_color\":{\"value\":\"#1f77b4\"},\"height\":{\"field\":\"height\",\"units\":\"data\"},\"line_alpha\":{\"value\":0.1},\"line_color\":{\"value\":\"#1f77b4\"},\"width\":{\"units\":\"data\",\"value\":43200000},\"x\":{\"field\":\"x\"},\"y\":{\"field\":\"y\"}},\"id\":\"7526\",\"type\":\"Rect\"},{\"attributes\":{},\"id\":\"7499\",\"type\":\"PanTool\"},{\"attributes\":{\"months\":[0,2,4,6,8,10]},\"id\":\"7542\",\"type\":\"MonthsTicker\"},{\"attributes\":{\"below\":[{\"id\":\"7489\",\"type\":\"DatetimeAxis\"}],\"left\":[{\"id\":\"7494\",\"type\":\"LinearAxis\"}],\"plot_height\":300,\"plot_width\":1000,\"renderers\":[{\"id\":\"7489\",\"type\":\"DatetimeAxis\"},{\"id\":\"7493\",\"type\":\"Grid\"},{\"id\":\"7494\",\"type\":\"LinearAxis\"},{\"id\":\"7498\",\"type\":\"Grid\"},{\"id\":\"7507\",\"type\":\"BoxAnnotation\"},{\"id\":\"7517\",\"type\":\"GlyphRenderer\"},{\"id\":\"7522\",\"type\":\"GlyphRenderer\"},{\"id\":\"7527\",\"type\":\"GlyphRenderer\"}],\"sizing_mode\":\"scale_width\",\"title\":{\"id\":\"7478\",\"type\":\"Title\"},\"toolbar\":{\"id\":\"7505\",\"type\":\"Toolbar\"},\"x_range\":{\"id\":\"7481\",\"type\":\"DataRange1d\"},\"x_scale\":{\"id\":\"7485\",\"type\":\"LinearScale\"},\"y_range\":{\"id\":\"7483\",\"type\":\"DataRange1d\"},\"y_scale\":{\"id\":\"7487\",\"type\":\"LinearScale\"}},\"id\":\"7479\",\"subtype\":\"Figure\",\"type\":\"Plot\"},{\"attributes\":{\"data_source\":{\"id\":\"7514\",\"type\":\"ColumnDataSource\"},\"glyph\":{\"id\":\"7515\",\"type\":\"Segment\"},\"hover_glyph\":null,\"muted_glyph\":null,\"nonselection_glyph\":{\"id\":\"7516\",\"type\":\"Segment\"},\"selection_glyph\":null,\"view\":{\"id\":\"7518\",\"type\":\"CDSView\"}},\"id\":\"7517\",\"type\":\"GlyphRenderer\"},{\"attributes\":{\"base\":60,\"mantissas\":[1,2,5,10,15,20,30],\"max_interval\":1800000.0,\"min_interval\":1000.0,\"num_minor_ticks\":0},\"id\":\"7535\",\"type\":\"AdaptiveTicker\"},{\"attributes\":{\"data_source\":{\"id\":\"7519\",\"type\":\"ColumnDataSource\"},\"glyph\":{\"id\":\"7520\",\"type\":\"Rect\"},\"hover_glyph\":null,\"muted_glyph\":null,\"nonselection_glyph\":{\"id\":\"7521\",\"type\":\"Rect\"},\"selection_glyph\":null,\"view\":{\"id\":\"7523\",\"type\":\"CDSView\"}},\"id\":\"7522\",\"type\":\"GlyphRenderer\"},{\"attributes\":{\"callback\":null,\"data\":{\"height\":{\"__ndarray__\":\"AAAAAChcCUAAAAAAoJn9PwAAAAAI1w9AAAAAACAz4z8AAAAA+CgIQAAAAABwPQhAAAAAAMBR2D8AAAAAENcFQAAAAAAM1xBAAAAAAEAK1z8AAAAAGK4HQAAAAABoZhJAAAAAAIBw3T8AAAAAgBTmPwAAAABwvSFAAAAAAADX0z8AAAAAcD0IQAAAAAAI1w1AAAAAAEAK8z8AAAAA+CgAQAAAAADQzPQ/AAAAAGhmBkAAAAAAkML9PwAAAABgj/o/AAAAAHA9AkAAAAAAAFLgPwAAAAAAAABAAAAAAMAe1T8AAAAAULgOQAAAAACwHvU/AAAAAFC49j8AAAAAoEfpPwAAAACgcPE/AAAAABCF8z8AAAAAQOHqPwAAAABwPfY/AAAAAADrsT8AAAAAANfjPwAAAABQj/o/AAAAAIAU5j8AAAAAAHvEPwAAAABQuARAAAAAAKhHC0AAAAAAoHDlPw==\",\"dtype\":\"float64\",\"shape\":[44]},\"x\":{\"__ndarray__\":\"AAAAHclsdkIAAMAZZW52QgAAgH+3bnZCAAAA4qVwdkIAAICtSnF2QgAAQBOdcXZCAADADNV0dkIAAIByJ3V2QgAAQNh5dXZCAAAA1RV3dkIAAEAGDXh2QgAAQJ1WeXZCAACAzk16dkIAAEDL6Xt2QgAAQPl8fnZCAAAAX89+dkIAAIDBvYB2QgAAAI1igXZCAAAAJKyCdkIAAMCJ/oJ2QgAAgO9Qg3ZCAABA7OyEdkIAAABSP4V2QgAAwLeRhXZCAADA5SSIdkIAAAAXHIl2QgAAgOLAiXZCAABASBOKdkIAAEDfXIt2QgAAAEWvi3ZCAABAdqaMdkIAAEAN8I12QgAAwNiUjnZCAACA1TCQdkIAAEA7g5B2QgAAwAYokXZCAAAAOB+SdkIAAMCdcZJ2QgAAgAPEknZCAAAAz2iTdkIAAEAAYJR2QgAAQJeplXZCAACAyKCWdkIAAEAu85Z2Qg==\",\"dtype\":\"float64\",\"shape\":[44]},\"y\":{\"__ndarray__\":\"AAAA8FGUa0AAAABACltpQAAAAFC4/mlAAAAAkML9Z0AAAADQzLxnQAAAAOB6AGhAAAAAkMLNZUAAAAAAAJxlQAAAAFC4WmZAAAAA8HoUZ0AAAAAQrqdlQAAAAKCZ6WRAAAAAQApXZUAAAABAM7dkQAAAACCFF2NAAAAAANd/Y0AAAADA9YxjQAAAANCjTGJAAAAAwPXEYkAAAACQmQljQAAAANDMJGNAAAAAsHD1YkAAAADwUUBjQAAAAMD1YGNAAAAAANeTY0AAAACgcIFjQAAAAAAAiGRAAAAA0MzIZEAAAABgjyplQAAAANCjsGVAAAAAcGY2ZUAAAAAQ109lQAAAAAApSGVAAAAAcD1KZUAAAAAghXNlQAAAANDMiGVAAAAAcD3GZUAAAADgo8BlQAAAALBHwWVAAAAAAADUZUAAAADgo/hlQAAAACCuc2VAAAAAcD0mZkAAAABQuIpmQA==\",\"dtype\":\"float64\",\"shape\":[44]}},\"selected\":{\"id\":\"7548\",\"type\":\"Selection\"},\"selection_policy\":{\"id\":\"7549\",\"type\":\"UnionRenderers\"}},\"id\":\"7519\",\"type\":\"ColumnDataSource\"},{\"attributes\":{\"grid_line_alpha\":{\"value\":0.3},\"plot\":{\"id\":\"7479\",\"subtype\":\"Figure\",\"type\":\"Plot\"},\"ticker\":{\"id\":\"7490\",\"type\":\"DatetimeTicker\"}},\"id\":\"7493\",\"type\":\"Grid\"},{\"attributes\":{\"fill_color\":{\"value\":\"#d88686\"},\"height\":{\"field\":\"height\",\"units\":\"data\"},\"line_color\":{\"value\":\"#442a2a\"},\"width\":{\"units\":\"data\",\"value\":43200000},\"x\":{\"field\":\"x\"},\"y\":{\"field\":\"y\"}},\"id\":\"7525\",\"type\":\"Rect\"},{\"attributes\":{\"callback\":null},\"id\":\"7481\",\"type\":\"DataRange1d\"},{\"attributes\":{},\"id\":\"7502\",\"type\":\"SaveTool\"},{\"attributes\":{},\"id\":\"7504\",\"type\":\"HelpTool\"},{\"attributes\":{},\"id\":\"7548\",\"type\":\"Selection\"},{\"attributes\":{},\"id\":\"7547\",\"type\":\"UnionRenderers\"},{\"attributes\":{},\"id\":\"7551\",\"type\":\"UnionRenderers\"},{\"attributes\":{},\"id\":\"7487\",\"type\":\"LinearScale\"},{\"attributes\":{},\"id\":\"7550\",\"type\":\"Selection\"},{\"attributes\":{\"months\":[0,1,2,3,4,5,6,7,8,9,10,11]},\"id\":\"7541\",\"type\":\"MonthsTicker\"},{\"attributes\":{\"line_color\":{\"value\":\"#7c7c7c\"},\"x0\":{\"field\":\"x0\"},\"x1\":{\"field\":\"x1\"},\"y0\":{\"field\":\"y0\"},\"y1\":{\"field\":\"y1\"}},\"id\":\"7515\",\"type\":\"Segment\"},{\"attributes\":{\"days\":[1,15]},\"id\":\"7540\",\"type\":\"DaysTicker\"},{\"attributes\":{},\"id\":\"7503\",\"type\":\"ResetTool\"},{\"attributes\":{\"mantissas\":[1,2,5],\"max_interval\":500.0,\"num_minor_ticks\":0},\"id\":\"7534\",\"type\":\"AdaptiveTicker\"},{\"attributes\":{\"fill_alpha\":{\"value\":0.1},\"fill_color\":{\"value\":\"#1f77b4\"},\"height\":{\"field\":\"height\",\"units\":\"data\"},\"line_alpha\":{\"value\":0.1},\"line_color\":{\"value\":\"#1f77b4\"},\"width\":{\"units\":\"data\",\"value\":43200000},\"x\":{\"field\":\"x\"},\"y\":{\"field\":\"y\"}},\"id\":\"7521\",\"type\":\"Rect\"},{\"attributes\":{\"base\":24,\"mantissas\":[1,2,4,6,8,12],\"max_interval\":43200000.0,\"min_interval\":3600000.0,\"num_minor_ticks\":0},\"id\":\"7536\",\"type\":\"AdaptiveTicker\"},{\"attributes\":{},\"id\":\"7549\",\"type\":\"UnionRenderers\"},{\"attributes\":{\"overlay\":{\"id\":\"7507\",\"type\":\"BoxAnnotation\"}},\"id\":\"7501\",\"type\":\"BoxZoomTool\"},{\"attributes\":{\"plot\":null,\"text\":\"Apple Stock Analysis nov2018-mar 2019\"},\"id\":\"7478\",\"type\":\"Title\"},{\"attributes\":{\"data_source\":{\"id\":\"7524\",\"type\":\"ColumnDataSource\"},\"glyph\":{\"id\":\"7525\",\"type\":\"Rect\"},\"hover_glyph\":null,\"muted_glyph\":null,\"nonselection_glyph\":{\"id\":\"7526\",\"type\":\"Rect\"},\"selection_glyph\":null,\"view\":{\"id\":\"7528\",\"type\":\"CDSView\"}},\"id\":\"7527\",\"type\":\"GlyphRenderer\"}],\"root_ids\":[\"7479\"]},\"title\":\"Bokeh Application\",\"version\":\"1.0.4\"}}';\n",
      "          var render_items = [{\"docid\":\"8eb06f4b-2d7d-4f2a-9a01-8d52087c3553\",\"roots\":{\"7479\":\"62688000-4c50-4cab-922c-1e75dcb6a889\"}}];\n",
      "          root.Bokeh.embed.embed_items(docs_json, render_items);\n",
      "        \n",
      "          }\n",
      "          if (root.Bokeh !== undefined) {\n",
      "            embed_document(root);\n",
      "          } else {\n",
      "            var attempts = 0;\n",
      "            var timer = setInterval(function(root) {\n",
      "              if (root.Bokeh !== undefined) {\n",
      "                embed_document(root);\n",
      "                clearInterval(timer);\n",
      "              }\n",
      "              attempts++;\n",
      "              if (attempts > 100) {\n",
      "                console.log(\"Bokeh: ERROR: Unable to run BokehJS code because BokehJS library is missing\");\n",
      "                clearInterval(timer);\n",
      "              }\n",
      "            }, 10, root)\n",
      "          }\n",
      "        })(window);\n",
      "      });\n",
      "    };\n",
      "    if (document.readyState != \"loading\") fn();\n",
      "    else document.addEventListener(\"DOMContentLoaded\", fn);\n",
      "  })();\n",
      "</script> \n",
      "---------------\n",
      "\n"
     ]
    }
   ],
   "source": [
    "print (cdn_js[0],\"\\n---------------\\n\")\n",
    "print (cdn_css[0] ,\"\\n---------------\\n\")\n",
    "print (div1,\"\\n---------------\\n\")\n",
    "print (script1,\"\\n---------------\\n\")"
   ]
  },
  {
   "cell_type": "code",
   "execution_count": null,
   "metadata": {},
   "outputs": [],
   "source": []
  }
 ],
 "metadata": {
  "kernelspec": {
   "display_name": "Python 3",
   "language": "python",
   "name": "python3"
  },
  "language_info": {
   "codemirror_mode": {
    "name": "ipython",
    "version": 3
   },
   "file_extension": ".py",
   "mimetype": "text/x-python",
   "name": "python",
   "nbconvert_exporter": "python",
   "pygments_lexer": "ipython3",
   "version": "3.6.7"
  }
 },
 "nbformat": 4,
 "nbformat_minor": 2
}

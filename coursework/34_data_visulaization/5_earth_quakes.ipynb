{
 "cells": [
  {
   "cell_type": "code",
   "execution_count": 9,
   "metadata": {},
   "outputs": [],
   "source": [
    "import pandas\n",
    "from bokeh.plotting import figure, output_file, show\n",
    "     \n",
    "df = pandas.read_csv(\"adbe.csv\" , parse_dates = [\"Date\"])\n",
    "\n",
    "\n",
    "p=figure(plot_width=500,plot_height=250 , x_axis_type = \"datetime\" , tools='pan')\n",
    "\n",
    "    \n",
    "p.title.text=\"Earth Quake\"\n",
    "p.title.text_color=\"Orange\"\n",
    "p.title.text_font=\"times\"\n",
    "p.title.text_font_style=\"italic\"\n",
    "p.xaxis.minor_tick_line_color=None\n",
    "p.yaxis.minor_tick_line_color=\"Yellow\"\n",
    "p.xaxis.axis_label=\"Times\"\n",
    "p.yaxis.axis_label=\"Value\"    \n",
    "\n",
    "p.line(df['Date'] , df['Close'] , color = \"Orange\" , alpha = 0.5)\n",
    "output_file(\"5_graph.html\")\n",
    "show(p)"
   ]
  },
  {
   "cell_type": "code",
   "execution_count": null,
   "metadata": {},
   "outputs": [],
   "source": []
  },
  {
   "cell_type": "code",
   "execution_count": null,
   "metadata": {},
   "outputs": [],
   "source": []
  }
 ],
 "metadata": {
  "kernelspec": {
   "display_name": "Python 3",
   "language": "python",
   "name": "python3"
  },
  "language_info": {
   "codemirror_mode": {
    "name": "ipython",
    "version": 3
   },
   "file_extension": ".py",
   "mimetype": "text/x-python",
   "name": "python",
   "nbconvert_exporter": "python",
   "pygments_lexer": "ipython3",
   "version": "3.6.7"
  }
 },
 "nbformat": 4,
 "nbformat_minor": 2
}

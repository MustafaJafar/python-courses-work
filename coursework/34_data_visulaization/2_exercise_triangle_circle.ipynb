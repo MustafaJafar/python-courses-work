{
 "cells": [
  {
   "cell_type": "code",
   "execution_count": 1,
   "metadata": {},
   "outputs": [],
   "source": [
    "from bokeh.plotting import figure\n",
    "from bokeh.io import output_file , show"
   ]
  },
  {
   "cell_type": "code",
   "execution_count": 2,
   "metadata": {},
   "outputs": [],
   "source": [
    "#prepare some data \n",
    "x = [3 , 7.5, 10]\n",
    "y = [3 , 6  ,  9]"
   ]
  },
  {
   "cell_type": "code",
   "execution_count": 6,
   "metadata": {},
   "outputs": [],
   "source": [
    "#prepare the output file \n",
    "output_file(\"2_exercise_triangle.html\")\n",
    "\n",
    "#create Fiugure object \n",
    "f1 = figure()\n",
    "\n",
    "#create plot \n",
    "f1.triangle(x ,y )\n",
    "\n",
    "show(f1)\n"
   ]
  },
  {
   "cell_type": "code",
   "execution_count": 7,
   "metadata": {},
   "outputs": [],
   "source": [
    "#prepare the output file \n",
    "output_file(\"2_exercise_circle.html\")\n",
    "\n",
    "#create Fiugure object \n",
    "f2 = figure()\n",
    "\n",
    "#create plot \n",
    "f2.circle(x ,y )\n",
    "\n",
    "show(f2)"
   ]
  },
  {
   "cell_type": "code",
   "execution_count": null,
   "metadata": {},
   "outputs": [],
   "source": []
  }
 ],
 "metadata": {
  "kernelspec": {
   "display_name": "Python 3",
   "language": "python",
   "name": "python3"
  },
  "language_info": {
   "codemirror_mode": {
    "name": "ipython",
    "version": 3
   },
   "file_extension": ".py",
   "mimetype": "text/x-python",
   "name": "python",
   "nbconvert_exporter": "python",
   "pygments_lexer": "ipython3",
   "version": "3.6.7"
  }
 },
 "nbformat": 4,
 "nbformat_minor": 2
}
